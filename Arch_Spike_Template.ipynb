{
 "cells": [
  {
   "cell_type": "code",
   "execution_count": 95,
   "metadata": {},
   "outputs": [],
   "source": [
    "#Set up workspace\n",
    "import numpy as np\n",
    "import pandas as pd"
   ]
  },
  {
   "cell_type": "code",
   "execution_count": 96,
   "metadata": {
    "collapsed": true
   },
   "outputs": [],
   "source": [
    "from scipy.optimize import minimize, rosen, rosen_der"
   ]
  },
  {
   "cell_type": "code",
   "execution_count": 16,
   "metadata": {},
   "outputs": [],
   "source": [
    "#Read in data - all active Boston Condos as of January 2018 + all sold Boston condos from 2017\n",
    "bc_all_2018 = pd.read_csv(\"BC_sold_active.csv\")\n",
    "\n",
    "#Exclude BR's greater than 4\n",
    "bc_all = bc_all_2018[bc_all_2018['BEDS']<=4]"
   ]
  },
  {
   "cell_type": "markdown",
   "metadata": {},
   "source": [
    "Let's create a nested dictionary, with the keys as the number of bedrooms nesting dictionaries of the relevant values for each bedroom count."
   ]
  },
  {
   "cell_type": "code",
   "execution_count": 28,
   "metadata": {},
   "outputs": [],
   "source": [
    "#Define keys for dictionary\n",
    "br_keys = list(set(bc_all['BEDS']))"
   ]
  },
  {
   "cell_type": "code",
   "execution_count": null,
   "metadata": {
    "collapsed": true
   },
   "outputs": [],
   "source": [
    "#Set an interest rate (for the present value calculation)\n",
    "int_rate = 0.07"
   ]
  },
  {
   "cell_type": "code",
   "execution_count": 59,
   "metadata": {},
   "outputs": [],
   "source": [
    "br_dicts = []\n",
    "for br in br_keys:\n",
    "    br_df_sold = bc_all.loc[(bc_all['BEDS'] == br) & (bc_all['STATUS']=='SLD')]\n",
    "    br_df_act = bc_all.loc[(bc_all['BEDS'] == br) & bc_all['STATUS'].isin(['ACT','BOM'])]\n",
    "    \n",
    "    #Sold info\n",
    "    sold_count = len(br_df_sold)\n",
    "    sold_price = np.mean(br_df_sold['SOLDPRICE'])\n",
    "    sold_sf = np.mean(br_df_sold['SQFT'])\n",
    "    sold_ppsf = sold_price/sold_sf\n",
    "    \n",
    "    #Act info\n",
    "    act_count = len(br_df_act)\n",
    "    act_price = np.mean(br_df_act['LISTPRICE'])\n",
    "    act_sf = np.mean(br_df_act['SQFT'])\n",
    "    act_ppsf = act_price/act_sf\n",
    "    \n",
    "    #Meta Info\n",
    "    sales_pm = sold_count/12\n",
    "    MOS = act_count/sales_pm\n",
    "    pv_ppsf = np.pv(int_rate/12,MOS,0,-sold_ppsf)\n",
    "    \n",
    "    br_dict = {'Sold_Count':sold_count,'Sold_Price': sold_price, 'Sold_SF':sold_sf,\n",
    "               'Sold_PPSF':sold_ppsf,'Act_Count':act_count,'Act_Price':act_price,\n",
    "               'Act_SF':act_sf,'Act_PPSF':act_ppsf,'Sales_PM':sales_pm,'MOS':MOS,\n",
    "               'PV_PPSF':pv_ppsf}\n",
    "    \n",
    "    br_dicts.append(br_dict)\n",
    "     \n",
    "condo_info = dict(zip(br_keys,br_dicts))"
   ]
  },
  {
   "cell_type": "markdown",
   "metadata": {},
   "source": [
    "Now that we have all of the relevant market information, we can set up the optimizer"
   ]
  },
  {
   "cell_type": "code",
   "execution_count": 64,
   "metadata": {},
   "outputs": [],
   "source": [
    "lot_area = 10000\n",
    "FAR = 8\n",
    "developable_area = lot_area*FAR"
   ]
  },
  {
   "cell_type": "code",
   "execution_count": 98,
   "metadata": {},
   "outputs": [
    {
     "data": {
      "text/plain": [
       "{'Act_Count': 203,\n",
       " 'Act_PPSF': 1037.897354960851,\n",
       " 'Act_Price': 1412424.9162561577,\n",
       " 'Act_SF': 1360.8522167487686,\n",
       " 'MOS': 1.0831480658070254,\n",
       " 'PV_PPSF': 709.6740609867494,\n",
       " 'Sales_PM': 187.41666666666666,\n",
       " 'Sold_Count': 2249,\n",
       " 'Sold_PPSF': 714.1591253244807,\n",
       " 'Sold_Price': 787426.6438417074,\n",
       " 'Sold_SF': 1102.5927078701645}"
      ]
     },
     "execution_count": 98,
     "metadata": {},
     "output_type": "execute_result"
    }
   ],
   "source": [
    "condo_info[2]"
   ]
  },
  {
   "cell_type": "code",
   "execution_count": 81,
   "metadata": {
    "collapsed": true
   },
   "outputs": [],
   "source": [
    "br_sf_vector = np.array([condo_info[br]['Sold_SF'] for br in br_keys])"
   ]
  },
  {
   "cell_type": "code",
   "execution_count": null,
   "metadata": {},
   "outputs": [],
   "source": []
  },
  {
   "cell_type": "code",
   "execution_count": 86,
   "metadata": {},
   "outputs": [],
   "source": [
    "sales_pm_vector = np.array([condo_info[br]['Sales_PM'] for br in br_keys])"
   ]
  },
  {
   "cell_type": "code",
   "execution_count": 85,
   "metadata": {},
   "outputs": [],
   "source": [
    "#What's the equation we want to maximize (minimize)?\n",
    "\n",
    "#[new_br_count_vector]*[br_sf_vector]*[new_pv_ppsf_vector]\n",
    "\n",
    "new_br_count = np.array([])\n",
    "br_sf_vector = np.array([condo_info[br]['Sold_SF'] for br in br_keys]) \n",
    "total_sf_vector = br_sf_vector*new_br_count\n",
    "\n",
    "sales_pm_vector = np.array([condo_info[br]['Sales_PM'] for br in br_keys])\n",
    "active_counts_vector = np.array([condo_info[br]['Act_Count'] for br in br_keys]) \n",
    "new_mos = (active_counts_vector+new_br_count)/sales_pm_vector\n",
    "sold_ppsf_vector = np.array([condo_info[br]['Sold_PPSF'] for br in br_keys]) \n",
    "\n",
    "new_pv_ppsf_vector = np.array([np.pv(int_rate/12,new_mos,0,-sold_ppsf_vector)])\n",
    "\n",
    "total_sellout_price = total_sf_vector*new_pv_ppsf_vector\n",
    "#Note: you should define the BR_SF differently in future, make them toggle-able\n"
   ]
  },
  {
   "cell_type": "code",
   "execution_count": null,
   "metadata": {},
   "outputs": [],
   "source": []
  },
  {
   "cell_type": "code",
   "execution_count": 72,
   "metadata": {},
   "outputs": [],
   "source": [
    "new_brs = np.array([10,20,30])\n",
    "sfs = np.array([400,600,800])"
   ]
  },
  {
   "cell_type": "code",
   "execution_count": null,
   "metadata": {},
   "outputs": [],
   "source": [
    "fun = lambda x: ()"
   ]
  },
  {
   "cell_type": "code",
   "execution_count": null,
   "metadata": {
    "collapsed": true
   },
   "outputs": [],
   "source": [
    "fun = lambda x: (x[0] - 1)**2 + (x[1] - 2.5)**2"
   ]
  }
 ],
 "metadata": {
  "kernelspec": {
   "display_name": "Python 3",
   "language": "python",
   "name": "python3"
  },
  "language_info": {
   "codemirror_mode": {
    "name": "ipython",
    "version": 3
   },
   "file_extension": ".py",
   "mimetype": "text/x-python",
   "name": "python",
   "nbconvert_exporter": "python",
   "pygments_lexer": "ipython3",
   "version": "3.6.1"
  }
 },
 "nbformat": 4,
 "nbformat_minor": 2
}
